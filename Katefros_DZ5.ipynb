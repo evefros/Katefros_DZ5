{
 "cells": [
  {
   "cell_type": "markdown",
   "metadata": {},
   "source": [
    "Переведите содержимое файла purchase_log.txt в словарь purchases вида:\n",
    "{‘1840e0b9d4’: ‘Продукты’, …}"
   ]
  },
  {
   "cell_type": "code",
   "execution_count": 54,
   "metadata": {
    "scrolled": false
   },
   "outputs": [],
   "source": [
    "import json\n",
    "\n",
    "purchase = {}\n",
    "with open('d:\\\\Python\\\\Kitty\\\\Katefros_DZ5\\\\purchase_log.txt','r', encoding = 'utf-8') as f:\n",
    "    for row in f:\n",
    "        dict_f = json.loads(row.strip())\n",
    "        purchase.setdefault(dict_f['user_id'],dict_f['category'])\n",
    "# purchase\n"
   ]
  },
  {
   "cell_type": "markdown",
   "metadata": {},
   "source": [
    "Для каждого user_id в файле visit_log.csv определите третий столбец с категорией покупки (если покупка была, сам файл visit_log.csv изменять не надо). Запишите в файл funnel.csv визиты из файла visit_log.csv, в которых были покупки с указанием категории.\n",
    "Учтите условия на данные:\n",
    "содержимое purchase_log.txt помещается в оперативную память компьютера\n",
    "содержимое visit_log.csv - нет; используйте только построчную обработку этого файла"
   ]
  },
  {
   "cell_type": "code",
   "execution_count": 60,
   "metadata": {},
   "outputs": [],
   "source": [
    "with open('d:\\\\Python\\\\Kitty\\\\Katefros_DZ5\\\\visit_log.csv','r', encoding = 'utf-8') as f2, open('d:\\\\Python\\\\Kitty\\\\Katefros_DZ5\\\\funnel.csv','w') as f3:\n",
    "    for row2 in f2:\n",
    "        visit = row2.strip().split(',') \n",
    "        if visit[0] in purchase.keys():\n",
    "            visit.append(purchase[visit[0]])\n",
    "            row3 = \",\".join(visit)\n",
    "            f3.writelines(row3 + '\\n')"
   ]
  }
 ],
 "metadata": {
  "kernelspec": {
   "display_name": "Python 3",
   "language": "python",
   "name": "python3"
  },
  "language_info": {
   "codemirror_mode": {
    "name": "ipython",
    "version": 3
   },
   "file_extension": ".py",
   "mimetype": "text/x-python",
   "name": "python",
   "nbconvert_exporter": "python",
   "pygments_lexer": "ipython3",
   "version": "3.8.5"
  }
 },
 "nbformat": 4,
 "nbformat_minor": 4
}
